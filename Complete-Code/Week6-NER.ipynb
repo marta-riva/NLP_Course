{
 "cells": [
  {
   "cell_type": "code",
   "execution_count": null,
   "metadata": {
    "collapsed": false,
    "scrolled": true
   },
   "outputs": [],
   "source": [
    "import codecs, nltk\n",
    "\n",
    "article = codecs.open(\"../datasets/CleanedArticles/15.txt\",\"r\",\"utf-8\")\n",
    "article = article.read()\n",
    "\n",
    "# split into sentences\n",
    "sentences = nltk.sent_tokenize(article) "
   ]
  },
  {
   "cell_type": "code",
   "execution_count": null,
   "metadata": {
    "collapsed": false
   },
   "outputs": [],
   "source": [
    "# named entity recognition with NLTK\n",
    "\n",
    "for sent in sentences:\n",
    "    \n",
    "    print (sent)\n",
    "    \n",
    "    # first step you tokenize (read documentation to know the input of NER)\n",
    "    sent = nltk.word_tokenize(sent)\n",
    "\n",
    "    # you use the pos-tagger (it gives you back a list of tuples (word,pos))\n",
    "    pos_sent = nltk.pos_tag(sent)\n",
    "\n",
    "    # then you use the NER library\n",
    "    ner = nltk.ne_chunk(pos_sent)\n",
    "\n",
    "    # we keep only the entities\n",
    "    ner = [x for x in ner if type(x) == nltk.tree.Tree]\n",
    "    print (ner)"
   ]
  },
  {
   "cell_type": "code",
   "execution_count": null,
   "metadata": {},
   "outputs": [],
   "source": [
    "# named entity recognition with Spacy\n",
    "\n",
    "# a different (new) library for doing most of the things we have seen so far\n",
    "# to install it: !pip install spacy\n",
    "# to download a model: !python -m spacy download en\n",
    "\n",
    "import spacy\n",
    "\n",
    "spacy_nlp_pipeline = spacy.load(\"en\")"
   ]
  },
  {
   "cell_type": "code",
   "execution_count": null,
   "metadata": {},
   "outputs": [],
   "source": [
    "\n",
    "\n",
    "for sent in sentences:\n",
    "    print (sent)\n",
    "    sent = spacy_nlp_pipeline(sent)\n",
    "    for token in sent:\n",
    "        tok = token.text\n",
    "        lemma = token.lemma_\n",
    "        pos = token.pos_\n",
    "        #print (tok, lemma,pos)\n",
    "                            \n",
    "                        \n",
    "    for ent in sent.ents:\n",
    "        ent_text = ent.text\n",
    "        label = str(ent.label_)\n",
    "        print (ent_text,label)\n",
    "    print (\" \")\n"
   ]
  },
  {
   "cell_type": "code",
   "execution_count": null,
   "metadata": {
    "collapsed": false,
    "scrolled": true
   },
   "outputs": [],
   "source": [
    "# for installing tagme:\n",
    "# !pip install tagme"
   ]
  },
  {
   "cell_type": "code",
   "execution_count": null,
   "metadata": {
    "collapsed": false
   },
   "outputs": [],
   "source": [
    "import tagme\n",
    "# Set the authorization token for subsequent calls.\n",
    "# add your own token here!\n",
    "# you can get it from here: https://sobigdata.d4science.org/web/tagme/tagme-help\n",
    "\n",
    "tagme.GCUBE_TOKEN = \"0ff2cd5e-79d7-4dac-b721-186a1a8df1ca-843339462\"\n",
    "\n",
    "annotated_article = tagme.annotate(article)\n"
   ]
  },
  {
   "cell_type": "code",
   "execution_count": null,
   "metadata": {
    "collapsed": false
   },
   "outputs": [],
   "source": [
    "# check the type\n",
    "print (type(annotated_article))"
   ]
  },
  {
   "cell_type": "code",
   "execution_count": null,
   "metadata": {
    "collapsed": false
   },
   "outputs": [],
   "source": [
    "# read the documentation to learn other commands\n",
    "\n",
    "for ann in annotated_article.get_annotations(0.1):\n",
    "    print (ann)"
   ]
  },
  {
   "cell_type": "code",
   "execution_count": null,
   "metadata": {
    "collapsed": false
   },
   "outputs": [],
   "source": [
    "# test with this\n",
    "sent = tagme.annotate(\"Yesterday I watched the debate between Clinton and Sanders.\")\n",
    "\n",
    "# Print annotations with a score higher than 0.1\n",
    "for ann in sent.get_annotations(0.1):\n",
    "    print (ann)\n",
    "\n",
    "# why is it still making mistakes?"
   ]
  },
  {
   "cell_type": "code",
   "execution_count": null,
   "metadata": {
    "collapsed": false
   },
   "outputs": [],
   "source": [
    "# computing entity relatedness\n",
    "rels = tagme.relatedness_title((\"Hillary Clinton\", \"Bernie Sanders\"))\n",
    "print (\"Hillary and Bernie have a semantic relation of\", rels.relatedness[0].rel)\n",
    "\n",
    "rels = tagme.relatedness_title((\"Bill Clinton\", \"Bernie Sanders\"))\n",
    "print (\"Bill and Bernie have a semantic relation of\", rels.relatedness[0].rel)\n",
    "\n",
    "rels = tagme.relatedness_title((\"Bill Clinton\", \"Hillary Clinton\"))\n",
    "print (\"Bill and Hillary have a semantic relation of\", rels.relatedness[0].rel)"
   ]
  },
  {
   "cell_type": "code",
   "execution_count": null,
   "metadata": {
    "collapsed": false,
    "scrolled": true
   },
   "outputs": [],
   "source": [
    "#homework: extract the most popular NERs and entities from this new dataset\n",
    "# use the library that you prefer\n",
    "# the file is organized this way, each line contains an article\n",
    "#each line has a date, a title, a topic and the content divided by tabs\n",
    "#so you have to split over tabs and take the 4th element for getting the article\n",
    "\n",
    "import codecs, nltk\n",
    "from collections import Counter\n",
    "\n",
    "# i'm skipping the first line, which is the header\n",
    "dataset = codecs.open(\"../datasets/dataset.tsv\", \"r\", \"utf-8\").read().strip().split(\"\\n\")[1:]\n",
    "\n",
    "\n",
    "entities = []\n",
    "\n",
    "for k in range(len(dataset)):\n",
    "    article = dataset[k]\n",
    "    print (article)\n",
    "    break\n"
   ]
  },
  {
   "cell_type": "code",
   "execution_count": null,
   "metadata": {
    "collapsed": false
   },
   "outputs": [],
   "source": []
  }
 ],
 "metadata": {
  "kernelspec": {
   "display_name": "Python 3",
   "language": "python",
   "name": "python3"
  },
  "language_info": {
   "codemirror_mode": {
    "name": "ipython",
    "version": 3
   },
   "file_extension": ".py",
   "mimetype": "text/x-python",
   "name": "python",
   "nbconvert_exporter": "python",
   "pygments_lexer": "ipython3",
   "version": "3.6.3"
  }
 },
 "nbformat": 4,
 "nbformat_minor": 2
}
