{
 "cells": [
  {
   "cell_type": "code",
   "execution_count": null,
   "metadata": {
    "collapsed": true,
    "deletable": true,
    "editable": true
   },
   "outputs": [],
   "source": [
    "# how do we create variables?\n",
    "\n",
    "# how do we do a for loop / if statement?\n",
    "\n",
    "# what is a list?\n"
   ]
  },
  {
   "cell_type": "code",
   "execution_count": null,
   "metadata": {
    "collapsed": false,
    "deletable": true,
    "editable": true
   },
   "outputs": [],
   "source": [
    "# dictionary\n",
    "\n",
    "shopping_bag = {'ice-cream':3, 'peanut butter':1, 'beer':6, 'pasta':2}\n",
    "\n",
    "print (shopping_bag[\"pasta\"])"
   ]
  },
  {
   "cell_type": "code",
   "execution_count": null,
   "metadata": {
    "collapsed": true,
    "deletable": true,
    "editable": true
   },
   "outputs": [],
   "source": [
    "# what is a library?\n",
    "\n",
    "# opening text files\n",
    "speech = open(\"../datasets/speech.txt\",\"r\")\n",
    "\n",
    "speech = speech.read()\n"
   ]
  },
  {
   "cell_type": "code",
   "execution_count": null,
   "metadata": {
    "collapsed": false,
    "deletable": true,
    "editable": true,
    "scrolled": true
   },
   "outputs": [],
   "source": [
    "# split words\n",
    "words = speech.split(\" \")\n",
    "print (words)"
   ]
  },
  {
   "cell_type": "code",
   "execution_count": null,
   "metadata": {
    "collapsed": true,
    "deletable": true,
    "editable": true
   },
   "outputs": [],
   "source": [
    "# list comprehension\n",
    "\n",
    "words = [x.lower() for x in words]"
   ]
  },
  {
   "cell_type": "code",
   "execution_count": null,
   "metadata": {
    "collapsed": false,
    "deletable": true,
    "editable": true
   },
   "outputs": [],
   "source": [
    "# you need a library to count faster\n",
    "from collections import Counter\n",
    "\n",
    "counting_words = Counter(words)\n",
    "\n",
    "print counting_words.most_common(30)"
   ]
  },
  {
   "cell_type": "code",
   "execution_count": null,
   "metadata": {
    "collapsed": true,
    "deletable": true,
    "editable": true
   },
   "outputs": [],
   "source": [
    "\n",
    "# homework\n",
    "# count how many tweets written by Donald Trump (and only by him!) contains the word \"great\"\n",
    "\n",
    "import json\n",
    "\n",
    "with open('trump.json') as f:\n",
    "    tweets = json.load(f)\n",
    "\n",
    "print (len(tweets))\n",
    "\n",
    "for tweet in tweets:\n",
    "    \n",
    "    # ....\n",
    "    # as a starting point check what object is this tweet\n",
    "    # you can do that using type(tweet)\n",
    "    # then you can also print the tweet but don't forget to use break, otherwise you'll print out all tweets\n",
    "    \n",
    "    break\n",
    "    "
   ]
  },
  {
   "cell_type": "code",
   "execution_count": null,
   "metadata": {
    "collapsed": false,
    "deletable": true,
    "editable": true
   },
   "outputs": [],
   "source": [
    "# loop over files in folder - you need a new library\n",
    "import os\n",
    "from bs4 import BeautifulSoup\n",
    "\n",
    "for filename in os.listdir(\"../datasets/Articles/\"):\n",
    "    if \".txt\" in filename:\n",
    "        print (filename)\n",
    "        doc = open(\"../datasets/Articles/\"+filename,\"r\")\n",
    "        doc = doc.read()\n",
    "        \n",
    "        # look at the original HTML\n",
    "        soup = str(doc).split(\"<!-- END WAYBACK TOOLBAR INSERT -->\")[1]\n",
    "            \n",
    "        soup = BeautifulSoup(soup, \"lxml\")\n",
    "\n",
    "        text = \"\"\n",
    "\n",
    "        # simply take all the paragraphs\n",
    "        for para in soup.find_all('p'):\n",
    "            text+= para.text\n",
    "        \n",
    "        print (text)\n",
    "        print (\" \")\n",
    "        break"
   ]
  },
  {
   "cell_type": "code",
   "execution_count": null,
   "metadata": {
    "collapsed": false,
    "deletable": true,
    "editable": true
   },
   "outputs": [],
   "source": [
    "# write output to a new file\n",
    "\n",
    "# we need codecs\n",
    "import codecs\n",
    "\n",
    "for filename in os.listdir(\"../datasets/Articles/\"):\n",
    "    if \".txt\" in filename:\n",
    "        print (filename)\n",
    "        doc = open(\"../datasets/Articles/\"+filename,\"r\")\n",
    "        doc = doc.read()\n",
    "        \n",
    "        # look at the original HTML\n",
    "        soup = str(doc).split(\"<!-- END WAYBACK TOOLBAR INSERT -->\")[1]\n",
    "            \n",
    "        soup = BeautifulSoup(soup, \"lxml\")\n",
    "\n",
    "        output = codecs.open(\"../datasets/CleanedArticles/\"+filename,\"w\",\"utf-8\")\n",
    "\n",
    "        text = \"\"\n",
    "\n",
    "        # simply take all the paragraphs\n",
    "        for para in soup.find_all('p'):\n",
    "            text+= para.text\n",
    "        \n",
    "        output.write(text)\n",
    "        output.close()\n"
   ]
  },
  {
   "cell_type": "code",
   "execution_count": null,
   "metadata": {
    "collapsed": true,
    "deletable": true,
    "editable": true
   },
   "outputs": [],
   "source": []
  },
  {
   "cell_type": "code",
   "execution_count": null,
   "metadata": {
    "collapsed": true,
    "deletable": true,
    "editable": true
   },
   "outputs": [],
   "source": [
    "\n",
    "    "
   ]
  }
 ],
 "metadata": {
  "kernelspec": {
   "display_name": "Python 2",
   "language": "python",
   "name": "python2"
  },
  "language_info": {
   "codemirror_mode": {
    "name": "ipython",
    "version": 2
   },
   "file_extension": ".py",
   "mimetype": "text/x-python",
   "name": "python",
   "nbconvert_exporter": "python",
   "pygments_lexer": "ipython2",
   "version": "2.7.12"
  }
 },
 "nbformat": 4,
 "nbformat_minor": 2
}
